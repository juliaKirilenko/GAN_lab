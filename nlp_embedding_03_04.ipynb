{
 "cells": [
  {
   "cell_type": "code",
   "execution_count": 1,
   "metadata": {},
   "outputs": [],
   "source": [
    "import numpy as np"
   ]
  },
  {
   "cell_type": "code",
   "execution_count": 2,
   "metadata": {},
   "outputs": [],
   "source": [
    "import pandas as pd\n"
   ]
  },
  {
   "cell_type": "code",
   "execution_count": 3,
   "metadata": {},
   "outputs": [],
   "source": [
    "df = pd.read_csv('parserEcho8.csv', engine='python', encoding = 'utf-8')"
   ]
  },
  {
   "cell_type": "code",
   "execution_count": 4,
   "metadata": {},
   "outputs": [
    {
     "data": {
      "text/html": [
       "<div>\n",
       "<style scoped>\n",
       "    .dataframe tbody tr th:only-of-type {\n",
       "        vertical-align: middle;\n",
       "    }\n",
       "\n",
       "    .dataframe tbody tr th {\n",
       "        vertical-align: top;\n",
       "    }\n",
       "\n",
       "    .dataframe thead th {\n",
       "        text-align: right;\n",
       "    }\n",
       "</style>\n",
       "<table border=\"1\" class=\"dataframe\">\n",
       "  <thead>\n",
       "    <tr style=\"text-align: right;\">\n",
       "      <th></th>\n",
       "      <th>Российская прыгунья в высоту Мария Ласицкене победила на чемпионате Европы по легкой атлетике в помещении.</th>\n",
       "      <th>На турнире в Глазго, выступающая в нейтральном статусе, 26-летняя спортсменка показала результат 2,01 метра.</th>\n",
       "    </tr>\n",
       "  </thead>\n",
       "  <tbody>\n",
       "    <tr>\n",
       "      <th>0</th>\n",
       "      <td>Дамаск обвинил международную коалицию во главе...</td>\n",
       "      <td>Как сообщает сирийское государственное телевид...</td>\n",
       "    </tr>\n",
       "    <tr>\n",
       "      <th>1</th>\n",
       "      <td>Досрочные выборы мэра польского Гданьска выигр...</td>\n",
       "      <td>б этом свидетельствуют опросы на выходе с изби...</td>\n",
       "    </tr>\n",
       "    <tr>\n",
       "      <th>2</th>\n",
       "      <td>Полиция США задержала в Чикаго известного певц...</td>\n",
       "      <td>Его обвиняют в десяти эпизодах сексуального на...</td>\n",
       "    </tr>\n",
       "    <tr>\n",
       "      <th>3</th>\n",
       "      <td>Пассажирский самолет, по некоторым данным, вык...</td>\n",
       "      <td>Лайнер «Узбекских авиалиний» прилетел из Ташкента</td>\n",
       "    </tr>\n",
       "    <tr>\n",
       "      <th>4</th>\n",
       "      <td>Налоговый маневр принес российским нефтяникам ...</td>\n",
       "      <td>Специалисты объясняют это тем, что компании по...</td>\n",
       "    </tr>\n",
       "  </tbody>\n",
       "</table>\n",
       "</div>"
      ],
      "text/plain": [
       "  Российская прыгунья в высоту Мария Ласицкене победила на чемпионате Европы по легкой атлетике в помещении.  \\\n",
       "0  Дамаск обвинил международную коалицию во главе...                                                           \n",
       "1  Досрочные выборы мэра польского Гданьска выигр...                                                           \n",
       "2  Полиция США задержала в Чикаго известного певц...                                                           \n",
       "3  Пассажирский самолет, по некоторым данным, вык...                                                           \n",
       "4  Налоговый маневр принес российским нефтяникам ...                                                           \n",
       "\n",
       "  На турнире в Глазго, выступающая в нейтральном статусе, 26-летняя спортсменка показала результат 2,01 метра.  \n",
       "0  Как сообщает сирийское государственное телевид...                                                            \n",
       "1  б этом свидетельствуют опросы на выходе с изби...                                                            \n",
       "2  Его обвиняют в десяти эпизодах сексуального на...                                                            \n",
       "3  Лайнер «Узбекских авиалиний» прилетел из Ташкента                                                            \n",
       "4  Специалисты объясняют это тем, что компании по...                                                            "
      ]
     },
     "execution_count": 4,
     "metadata": {},
     "output_type": "execute_result"
    }
   ],
   "source": [
    "df.head()"
   ]
  },
  {
   "cell_type": "code",
   "execution_count": 5,
   "metadata": {},
   "outputs": [
    {
     "data": {
      "text/plain": [
       "(108415, 2)"
      ]
     },
     "execution_count": 5,
     "metadata": {},
     "output_type": "execute_result"
    }
   ],
   "source": [
    "df.shape"
   ]
  },
  {
   "cell_type": "code",
   "execution_count": 7,
   "metadata": {},
   "outputs": [],
   "source": [
    "df.columns = ['title', 'description']"
   ]
  },
  {
   "cell_type": "code",
   "execution_count": 11,
   "metadata": {},
   "outputs": [],
   "source": [
    "df = df.dropna(axis = 0)"
   ]
  },
  {
   "cell_type": "code",
   "execution_count": 12,
   "metadata": {},
   "outputs": [
    {
     "data": {
      "text/plain": [
       "0"
      ]
     },
     "execution_count": 12,
     "metadata": {},
     "output_type": "execute_result"
    }
   ],
   "source": [
    "(df['description'] == '').sum()"
   ]
  },
  {
   "cell_type": "code",
   "execution_count": 13,
   "metadata": {},
   "outputs": [],
   "source": [
    "df['description'] = df['description'].map(lambda s: s.strip())"
   ]
  },
  {
   "cell_type": "code",
   "execution_count": 14,
   "metadata": {},
   "outputs": [],
   "source": [
    "df['description'].replace('', np.nan, inplace=True)"
   ]
  },
  {
   "cell_type": "code",
   "execution_count": 15,
   "metadata": {},
   "outputs": [],
   "source": [
    "df = df.dropna()"
   ]
  },
  {
   "cell_type": "code",
   "execution_count": 16,
   "metadata": {},
   "outputs": [],
   "source": [
    "#df.dropna(axis=0).shape"
   ]
  },
  {
   "cell_type": "code",
   "execution_count": 17,
   "metadata": {},
   "outputs": [
    {
     "data": {
      "text/plain": [
       "(108414, 2)"
      ]
     },
     "execution_count": 17,
     "metadata": {},
     "output_type": "execute_result"
    }
   ],
   "source": [
    "df.shape"
   ]
  },
  {
   "cell_type": "code",
   "execution_count": 18,
   "metadata": {},
   "outputs": [],
   "source": [
    "import nltk"
   ]
  },
  {
   "cell_type": "code",
   "execution_count": 19,
   "metadata": {},
   "outputs": [],
   "source": [
    "from collections import defaultdict"
   ]
  },
  {
   "cell_type": "code",
   "execution_count": 20,
   "metadata": {},
   "outputs": [],
   "source": [
    "import re"
   ]
  },
  {
   "cell_type": "code",
   "execution_count": 21,
   "metadata": {},
   "outputs": [],
   "source": [
    "def clean(word):\n",
    "    return re.sub('[^а-я]', '',word.lower().strip())\n",
    "\n",
    "def tokenize(text):\n",
    "    d = defaultdict(int)\n",
    "    for word in text.split():\n",
    "        d[clean(word)] += 1\n",
    "    return d\n",
    "token_des, token_title = df['description'].map(tokenize), df['title'].map(tokenize) "
   ]
  },
  {
   "cell_type": "code",
   "execution_count": 22,
   "metadata": {},
   "outputs": [],
   "source": [
    "vocab = defaultdict(int)\n",
    "for d in token_des:\n",
    "    for word, count in d.items():\n",
    "        vocab[word] += count\n",
    "for d in token_title:\n",
    "    for word, count in d.items():\n",
    "        vocab[word] += count"
   ]
  },
  {
   "cell_type": "code",
   "execution_count": 23,
   "metadata": {},
   "outputs": [
    {
     "data": {
      "text/plain": [
       "defaultdict(int,\n",
       "            {'б': 1,\n",
       "             'этом': 1,\n",
       "             'свидетельствуют': 1,\n",
       "             'опросы': 1,\n",
       "             'на': 1,\n",
       "             'выходе': 1,\n",
       "             'с': 1,\n",
       "             'избирательных': 1,\n",
       "             'участков': 1,\n",
       "             'ранее': 1,\n",
       "             'дулкевич': 1,\n",
       "             'работала': 1,\n",
       "             'заместителем': 1,\n",
       "             'прежнего': 1,\n",
       "             'мэра': 1,\n",
       "             'павла': 1,\n",
       "             'адамовича': 1,\n",
       "             'который': 1,\n",
       "             'был': 1,\n",
       "             'убит': 1,\n",
       "             'в': 1,\n",
       "             'середине': 1,\n",
       "             'января': 1})"
      ]
     },
     "execution_count": 23,
     "metadata": {},
     "output_type": "execute_result"
    }
   ],
   "source": [
    "token_des[1]"
   ]
  },
  {
   "cell_type": "code",
   "execution_count": 24,
   "metadata": {},
   "outputs": [
    {
     "data": {
      "text/plain": [
       "100225"
      ]
     },
     "execution_count": 24,
     "metadata": {},
     "output_type": "execute_result"
    }
   ],
   "source": [
    "len(vocab)"
   ]
  },
  {
   "cell_type": "code",
   "execution_count": 25,
   "metadata": {},
   "outputs": [
    {
     "data": {
      "text/plain": [
       "16034"
      ]
     },
     "execution_count": 25,
     "metadata": {},
     "output_type": "execute_result"
    }
   ],
   "source": [
    "vocab_t = (word for word, count in vocab.items() if count > 15 and len(word) > 0)\n",
    "vocab_t = {word:index for index, word in enumerate(vocab_t)}\n",
    "len(vocab_t)"
   ]
  },
  {
   "cell_type": "code",
   "execution_count": 26,
   "metadata": {},
   "outputs": [],
   "source": [
    "unk_key = vocab_t['<UNK>'] = len(vocab_t)"
   ]
  },
  {
   "cell_type": "code",
   "execution_count": 27,
   "metadata": {},
   "outputs": [],
   "source": [
    "inverse_vocab = {index:word for word, index in vocab_t.items()}"
   ]
  },
  {
   "cell_type": "code",
   "execution_count": 28,
   "metadata": {},
   "outputs": [],
   "source": [
    "def transform(bag):\n",
    "    d = defaultdict(int)\n",
    "    for word, count in bag.items():\n",
    "        d[vocab_t.get(word, unk_key)] += count\n",
    "    return d"
   ]
  },
  {
   "cell_type": "code",
   "execution_count": 29,
   "metadata": {},
   "outputs": [],
   "source": [
    "real_des = list(map(transform, token_des))\n",
    "real_title = list(map(transform, token_title))"
   ]
  },
  {
   "cell_type": "code",
   "execution_count": 30,
   "metadata": {},
   "outputs": [
    {
     "data": {
      "text/plain": [
       "defaultdict(int,\n",
       "            {0: 1,\n",
       "             1: 1,\n",
       "             2: 1,\n",
       "             3: 1,\n",
       "             4: 1,\n",
       "             5: 1,\n",
       "             6: 1,\n",
       "             7: 2,\n",
       "             8: 1,\n",
       "             9: 1,\n",
       "             16034: 1,\n",
       "             10: 1,\n",
       "             11: 1,\n",
       "             12: 1})"
      ]
     },
     "execution_count": 30,
     "metadata": {},
     "output_type": "execute_result"
    }
   ],
   "source": [
    "real_des[0]"
   ]
  },
  {
   "cell_type": "code",
   "execution_count": 31,
   "metadata": {},
   "outputs": [],
   "source": [
    "def to_numpy(real):\n",
    "    data = np.zeros((len(real), 2), dtype='int')\n",
    "    for i, v in enumerate(real.items()):\n",
    "        data[i] = v\n",
    "    return data\n",
    "nu_des = list(map(to_numpy, real_des))\n",
    "nu_title = list(map(to_numpy, real_title))"
   ]
  },
  {
   "cell_type": "code",
   "execution_count": 32,
   "metadata": {},
   "outputs": [
    {
     "data": {
      "text/plain": [
       "array([[    0,     1],\n",
       "       [    1,     1],\n",
       "       [    2,     1],\n",
       "       [    3,     1],\n",
       "       [    4,     1],\n",
       "       [    5,     1],\n",
       "       [    6,     1],\n",
       "       [    7,     2],\n",
       "       [    8,     1],\n",
       "       [    9,     1],\n",
       "       [16034,     1],\n",
       "       [   10,     1],\n",
       "       [   11,     1],\n",
       "       [   12,     1]])"
      ]
     },
     "execution_count": 32,
     "metadata": {},
     "output_type": "execute_result"
    }
   ],
   "source": [
    "nu_des[0]"
   ]
  },
  {
   "cell_type": "code",
   "execution_count": 33,
   "metadata": {},
   "outputs": [],
   "source": [
    "eps = 10**-7"
   ]
  },
  {
   "cell_type": "code",
   "execution_count": 34,
   "metadata": {},
   "outputs": [],
   "source": [
    "EMB_SIZE = 50"
   ]
  },
  {
   "cell_type": "code",
   "execution_count": 35,
   "metadata": {},
   "outputs": [],
   "source": [
    "VOCAB_SIZE = len(vocab_t)"
   ]
  },
  {
   "cell_type": "code",
   "execution_count": 70,
   "metadata": {},
   "outputs": [],
   "source": [
    "#embedding = np.random.randn(EMB_SIZE, VOCAB_SIZE) * 0.001\n",
    "embedding = np.random.rand(EMB_SIZE, VOCAB_SIZE) * 0.001"
   ]
  },
  {
   "cell_type": "code",
   "execution_count": 71,
   "metadata": {},
   "outputs": [],
   "source": [
    "matrix_delta = np.full((EMB_SIZE, VOCAB_SIZE), eps)"
   ]
  },
  {
   "cell_type": "code",
   "execution_count": 38,
   "metadata": {},
   "outputs": [
    {
     "data": {
      "text/plain": [
       "(50, 16035)"
      ]
     },
     "execution_count": 38,
     "metadata": {},
     "output_type": "execute_result"
    }
   ],
   "source": [
    "embedding.shape"
   ]
  },
  {
   "cell_type": "code",
   "execution_count": 39,
   "metadata": {},
   "outputs": [],
   "source": [
    "aggreg_fun = np.mean"
   ]
  },
  {
   "cell_type": "code",
   "execution_count": 40,
   "metadata": {},
   "outputs": [],
   "source": [
    "def get_repr(nu_data):\n",
    "    return aggreg_fun(embedding[:, nu_data[:, 0]] * nu_data[:, 1], axis=1)"
   ]
  },
  {
   "cell_type": "code",
   "execution_count": 41,
   "metadata": {},
   "outputs": [],
   "source": [
    "def get_repr_max(nu_data):\n",
    "    s = embedding[:, nu_data[:, 0]] * nu_data[:, 1]\n",
    "    inds = np.argmax(s, axis = 1)\n",
    "    trepr = s[np.arange(EMB_SIZE), inds]\n",
    "    #print(\"repr\", trepr, nu_data[inds, 0])\n",
    "    return trepr, nu_data[inds, 0]"
   ]
  },
  {
   "cell_type": "code",
   "execution_count": 42,
   "metadata": {},
   "outputs": [
    {
     "data": {
      "text/plain": [
       "(50,)"
      ]
     },
     "execution_count": 42,
     "metadata": {},
     "output_type": "execute_result"
    }
   ],
   "source": [
    "get_repr(nu_des[0]).shape"
   ]
  },
  {
   "cell_type": "code",
   "execution_count": 43,
   "metadata": {},
   "outputs": [
    {
     "data": {
      "text/plain": [
       "(14, 2)"
      ]
     },
     "execution_count": 43,
     "metadata": {},
     "output_type": "execute_result"
    }
   ],
   "source": [
    "nu_title[0].shape"
   ]
  },
  {
   "cell_type": "code",
   "execution_count": 44,
   "metadata": {},
   "outputs": [],
   "source": [
    "oo = np.array(nu_title)\n",
    "lens = np.array([o.shape[0] for o in oo])"
   ]
  },
  {
   "cell_type": "code",
   "execution_count": 45,
   "metadata": {},
   "outputs": [],
   "source": [
    "oo2 = np.array(nu_des)\n",
    "lens2 = np.array([o.shape[0] for o in oo2])"
   ]
  },
  {
   "cell_type": "code",
   "execution_count": 46,
   "metadata": {},
   "outputs": [
    {
     "data": {
      "text/plain": [
       "0"
      ]
     },
     "execution_count": 46,
     "metadata": {},
     "output_type": "execute_result"
    }
   ],
   "source": [
    "(lens2 == 0).sum()"
   ]
  },
  {
   "cell_type": "code",
   "execution_count": 47,
   "metadata": {},
   "outputs": [
    {
     "data": {
      "text/plain": [
       "array([[ 1175,     1],\n",
       "       [ 7923,     1],\n",
       "       [11551,     1],\n",
       "       [ 3901,     1],\n",
       "       [   17,     1],\n",
       "       [ 3120,     1],\n",
       "       [    7,     1],\n",
       "       [ 5320,     1],\n",
       "       [  630,     1],\n",
       "       [ 4002,     1],\n",
       "       [  196,     1],\n",
       "       [ 2633,     1],\n",
       "       [ 4944,     1]])"
      ]
     },
     "execution_count": 47,
     "metadata": {},
     "output_type": "execute_result"
    }
   ],
   "source": [
    "oo[3884]"
   ]
  },
  {
   "cell_type": "code",
   "execution_count": 48,
   "metadata": {},
   "outputs": [
    {
     "data": {
      "text/plain": [
       "defaultdict(int,\n",
       "            {'премьерминистр': 1,\n",
       "             'польши': 1,\n",
       "             'отменил': 1,\n",
       "             'поездку': 1,\n",
       "             'на': 1,\n",
       "             'саммит': 1,\n",
       "             'в': 1,\n",
       "             'иерусалим': 1,\n",
       "             'после': 1,\n",
       "             'высказываний': 1,\n",
       "             'своего': 1,\n",
       "             'израильского': 1,\n",
       "             'коллеги': 1})"
      ]
     },
     "execution_count": 48,
     "metadata": {},
     "output_type": "execute_result"
    }
   ],
   "source": [
    "token_title[3884]"
   ]
  },
  {
   "cell_type": "code",
   "execution_count": 49,
   "metadata": {},
   "outputs": [
    {
     "ename": "KeyError",
     "evalue": "'url'",
     "output_type": "error",
     "traceback": [
      "\u001b[1;31m---------------------------------------------------------------------------\u001b[0m",
      "\u001b[1;31mTypeError\u001b[0m                                 Traceback (most recent call last)",
      "\u001b[1;32m~\\Anaconda3\\lib\\site-packages\\pandas\\core\\indexes\\base.py\u001b[0m in \u001b[0;36mget_value\u001b[1;34m(self, series, key)\u001b[0m\n\u001b[0;32m   3123\u001b[0m             \u001b[1;32mtry\u001b[0m\u001b[1;33m:\u001b[0m\u001b[1;33m\u001b[0m\u001b[1;33m\u001b[0m\u001b[0m\n\u001b[1;32m-> 3124\u001b[1;33m                 \u001b[1;32mreturn\u001b[0m \u001b[0mlibindex\u001b[0m\u001b[1;33m.\u001b[0m\u001b[0mget_value_box\u001b[0m\u001b[1;33m(\u001b[0m\u001b[0ms\u001b[0m\u001b[1;33m,\u001b[0m \u001b[0mkey\u001b[0m\u001b[1;33m)\u001b[0m\u001b[1;33m\u001b[0m\u001b[1;33m\u001b[0m\u001b[0m\n\u001b[0m\u001b[0;32m   3125\u001b[0m             \u001b[1;32mexcept\u001b[0m \u001b[0mIndexError\u001b[0m\u001b[1;33m:\u001b[0m\u001b[1;33m\u001b[0m\u001b[1;33m\u001b[0m\u001b[0m\n",
      "\u001b[1;32mpandas\\_libs\\index.pyx\u001b[0m in \u001b[0;36mpandas._libs.index.get_value_box\u001b[1;34m()\u001b[0m\n",
      "\u001b[1;32mpandas\\_libs\\index.pyx\u001b[0m in \u001b[0;36mpandas._libs.index.get_value_box\u001b[1;34m()\u001b[0m\n",
      "\u001b[1;31mTypeError\u001b[0m: 'str' object cannot be interpreted as an integer",
      "\nDuring handling of the above exception, another exception occurred:\n",
      "\u001b[1;31mKeyError\u001b[0m                                  Traceback (most recent call last)",
      "\u001b[1;32m<ipython-input-49-5e4155e4a8b3>\u001b[0m in \u001b[0;36m<module>\u001b[1;34m\u001b[0m\n\u001b[1;32m----> 1\u001b[1;33m \u001b[0mdf\u001b[0m\u001b[1;33m.\u001b[0m\u001b[0miloc\u001b[0m\u001b[1;33m[\u001b[0m\u001b[1;36m3884\u001b[0m\u001b[1;33m]\u001b[0m\u001b[1;33m[\u001b[0m\u001b[1;34m'url'\u001b[0m\u001b[1;33m]\u001b[0m\u001b[1;33m\u001b[0m\u001b[1;33m\u001b[0m\u001b[0m\n\u001b[0m",
      "\u001b[1;32m~\\Anaconda3\\lib\\site-packages\\pandas\\core\\series.py\u001b[0m in \u001b[0;36m__getitem__\u001b[1;34m(self, key)\u001b[0m\n\u001b[0;32m    765\u001b[0m         \u001b[0mkey\u001b[0m \u001b[1;33m=\u001b[0m \u001b[0mcom\u001b[0m\u001b[1;33m.\u001b[0m\u001b[0m_apply_if_callable\u001b[0m\u001b[1;33m(\u001b[0m\u001b[0mkey\u001b[0m\u001b[1;33m,\u001b[0m \u001b[0mself\u001b[0m\u001b[1;33m)\u001b[0m\u001b[1;33m\u001b[0m\u001b[1;33m\u001b[0m\u001b[0m\n\u001b[0;32m    766\u001b[0m         \u001b[1;32mtry\u001b[0m\u001b[1;33m:\u001b[0m\u001b[1;33m\u001b[0m\u001b[1;33m\u001b[0m\u001b[0m\n\u001b[1;32m--> 767\u001b[1;33m             \u001b[0mresult\u001b[0m \u001b[1;33m=\u001b[0m \u001b[0mself\u001b[0m\u001b[1;33m.\u001b[0m\u001b[0mindex\u001b[0m\u001b[1;33m.\u001b[0m\u001b[0mget_value\u001b[0m\u001b[1;33m(\u001b[0m\u001b[0mself\u001b[0m\u001b[1;33m,\u001b[0m \u001b[0mkey\u001b[0m\u001b[1;33m)\u001b[0m\u001b[1;33m\u001b[0m\u001b[1;33m\u001b[0m\u001b[0m\n\u001b[0m\u001b[0;32m    768\u001b[0m \u001b[1;33m\u001b[0m\u001b[0m\n\u001b[0;32m    769\u001b[0m             \u001b[1;32mif\u001b[0m \u001b[1;32mnot\u001b[0m \u001b[0mis_scalar\u001b[0m\u001b[1;33m(\u001b[0m\u001b[0mresult\u001b[0m\u001b[1;33m)\u001b[0m\u001b[1;33m:\u001b[0m\u001b[1;33m\u001b[0m\u001b[1;33m\u001b[0m\u001b[0m\n",
      "\u001b[1;32m~\\Anaconda3\\lib\\site-packages\\pandas\\core\\indexes\\base.py\u001b[0m in \u001b[0;36mget_value\u001b[1;34m(self, series, key)\u001b[0m\n\u001b[0;32m   3130\u001b[0m                     \u001b[1;32mraise\u001b[0m \u001b[0mInvalidIndexError\u001b[0m\u001b[1;33m(\u001b[0m\u001b[0mkey\u001b[0m\u001b[1;33m)\u001b[0m\u001b[1;33m\u001b[0m\u001b[1;33m\u001b[0m\u001b[0m\n\u001b[0;32m   3131\u001b[0m                 \u001b[1;32melse\u001b[0m\u001b[1;33m:\u001b[0m\u001b[1;33m\u001b[0m\u001b[1;33m\u001b[0m\u001b[0m\n\u001b[1;32m-> 3132\u001b[1;33m                     \u001b[1;32mraise\u001b[0m \u001b[0me1\u001b[0m\u001b[1;33m\u001b[0m\u001b[1;33m\u001b[0m\u001b[0m\n\u001b[0m\u001b[0;32m   3133\u001b[0m             \u001b[1;32mexcept\u001b[0m \u001b[0mException\u001b[0m\u001b[1;33m:\u001b[0m  \u001b[1;31m# pragma: no cover\u001b[0m\u001b[1;33m\u001b[0m\u001b[1;33m\u001b[0m\u001b[0m\n\u001b[0;32m   3134\u001b[0m                 \u001b[1;32mraise\u001b[0m \u001b[0me1\u001b[0m\u001b[1;33m\u001b[0m\u001b[1;33m\u001b[0m\u001b[0m\n",
      "\u001b[1;32m~\\Anaconda3\\lib\\site-packages\\pandas\\core\\indexes\\base.py\u001b[0m in \u001b[0;36mget_value\u001b[1;34m(self, series, key)\u001b[0m\n\u001b[0;32m   3116\u001b[0m         \u001b[1;32mtry\u001b[0m\u001b[1;33m:\u001b[0m\u001b[1;33m\u001b[0m\u001b[1;33m\u001b[0m\u001b[0m\n\u001b[0;32m   3117\u001b[0m             return self._engine.get_value(s, k,\n\u001b[1;32m-> 3118\u001b[1;33m                                           tz=getattr(series.dtype, 'tz', None))\n\u001b[0m\u001b[0;32m   3119\u001b[0m         \u001b[1;32mexcept\u001b[0m \u001b[0mKeyError\u001b[0m \u001b[1;32mas\u001b[0m \u001b[0me1\u001b[0m\u001b[1;33m:\u001b[0m\u001b[1;33m\u001b[0m\u001b[1;33m\u001b[0m\u001b[0m\n\u001b[0;32m   3120\u001b[0m             \u001b[1;32mif\u001b[0m \u001b[0mlen\u001b[0m\u001b[1;33m(\u001b[0m\u001b[0mself\u001b[0m\u001b[1;33m)\u001b[0m \u001b[1;33m>\u001b[0m \u001b[1;36m0\u001b[0m \u001b[1;32mand\u001b[0m \u001b[0mself\u001b[0m\u001b[1;33m.\u001b[0m\u001b[0minferred_type\u001b[0m \u001b[1;32min\u001b[0m \u001b[1;33m[\u001b[0m\u001b[1;34m'integer'\u001b[0m\u001b[1;33m,\u001b[0m \u001b[1;34m'boolean'\u001b[0m\u001b[1;33m]\u001b[0m\u001b[1;33m:\u001b[0m\u001b[1;33m\u001b[0m\u001b[1;33m\u001b[0m\u001b[0m\n",
      "\u001b[1;32mpandas\\_libs\\index.pyx\u001b[0m in \u001b[0;36mpandas._libs.index.IndexEngine.get_value\u001b[1;34m()\u001b[0m\n",
      "\u001b[1;32mpandas\\_libs\\index.pyx\u001b[0m in \u001b[0;36mpandas._libs.index.IndexEngine.get_value\u001b[1;34m()\u001b[0m\n",
      "\u001b[1;32mpandas\\_libs\\index.pyx\u001b[0m in \u001b[0;36mpandas._libs.index.IndexEngine.get_loc\u001b[1;34m()\u001b[0m\n",
      "\u001b[1;32mpandas\\_libs\\hashtable_class_helper.pxi\u001b[0m in \u001b[0;36mpandas._libs.hashtable.PyObjectHashTable.get_item\u001b[1;34m()\u001b[0m\n",
      "\u001b[1;32mpandas\\_libs\\hashtable_class_helper.pxi\u001b[0m in \u001b[0;36mpandas._libs.hashtable.PyObjectHashTable.get_item\u001b[1;34m()\u001b[0m\n",
      "\u001b[1;31mKeyError\u001b[0m: 'url'"
     ]
    }
   ],
   "source": [
    "df.iloc[3884]['url']"
   ]
  },
  {
   "cell_type": "code",
   "execution_count": 50,
   "metadata": {},
   "outputs": [],
   "source": [
    "def backward_hinge(u, v, v_hat, gamma = 1.0):\n",
    "    loss = gamma - u.dot(v) + u.dot(v_hat)\n",
    "    if loss > 0:\n",
    "        return (v_hat - v, -u, u)"
   ]
  },
  {
   "cell_type": "code",
   "execution_count": 51,
   "metadata": {},
   "outputs": [],
   "source": [
    "def sigmoid(x):\n",
    "    return 1. / (1. + np.exp(-x))\n",
    "\n",
    "def backward_bpr(u, v, v_hat, gamma = 1.0):\n",
    "    temp = sigmoid(u.dot(v_hat) - u.dot(v))\n",
    "    #u /= np.linalg.norm(u)\n",
    "    #v /= np.linalg.norm(v)\n",
    "    #v_hat /= np.linalg.norm(v_hat)\n",
    "    #temp = sigmoid(u.dot(v) - u.dot(v_hat))\n",
    "    #loss = gamma - temp\n",
    "    #print(u, v, v_hat)\n",
    "    #print(\"loss \",  - np.log(temp), u.dot(v)-u.dot(v_hat))\n",
    "    #temp2 = -temp * (temp - 1)\n",
    "    #temp2 = (1 - temp)\n",
    "    temp2 = (temp - 1)\n",
    "    temp2 = temp\n",
    "    #if loss > 0:\n",
    "    return (temp2 * (v_hat - v), -temp2 * u, temp2*u)\n",
    "    # return (v_hat - v, -u, u)\n",
    "    \n",
    "def backward_bpr_2(u, v, v_hat, gamma = 1.0):\n",
    "    temp = sigmoid(u.dot(v_hat) - u.dot(v))\n",
    "    temp2 = (temp - 1)\n",
    "    temp2 = temp\n",
    "    return (temp2 * (v_hat - v), -temp2 * u, temp2*u)\n",
    "    # return (v_hat - v, -u, u)"
   ]
  },
  {
   "cell_type": "code",
   "execution_count": 52,
   "metadata": {},
   "outputs": [],
   "source": [
    "#adagrad\n",
    "def update_old(emb, delta, idx, lam, nu):\n",
    "    #p = emb[:, idx]\n",
    "    #g = delta[:, idx]\n",
    "    lam = lam[:, np.newaxis] \n",
    "    #print(\"update\", p, g, lam)\n",
    "    #print(\"update_shape\", p.shape, g.shape, lam.shape, idx.shape, delta.shape, emb.shape)\n",
    "    #emb[:, idx] += lam**2\n",
    "    delta[:, idx] += (lam**2)\n",
    "    emb[:, idx] -= (lam * nu / (delta[:, idx]**0.5 + eps))\n",
    "    #delta[:, idx] +=\n",
    "    #delta[:, idx] += delta\n",
    "\n",
    "#rmsprop\n",
    "def update(emb, delta, idx, lam, nu, forget=0.5):\n",
    "    #p = emb[:, idx]\n",
    "    #g = delta[:, idx]\n",
    "    #print(lam)\n",
    "    lam = lam[:, np.newaxis] \n",
    "    #print(\"update\", p, g, lam)\n",
    "    #print(\"update_shape\", p.shape, g.shape, lam.shape, idx.shape, delta.shape, emb.shape)\n",
    "    #emb[:, idx] += lam**2\n",
    "    p = delta[:, idx] = forget * delta[:, idx] + (1 - forget) * (lam**2)\n",
    "    emb[:, idx] -= (lam * nu / (p**0.5 + eps))\n",
    "    #delta[:, idx] +=\n",
    "    #delta[:, idx] += delta\n",
    "\n",
    "#rmsprop    \n",
    "def update_max(emb, delta, idx, lam, nu, forget=0.5):\n",
    "    #p = emb[:, idx]\n",
    "    #g = delta[:, idx]\n",
    "    #print(lam)\n",
    "    #lam = lam[:, np.newaxis] \n",
    "    #print(\"update\", p, g, lam)\n",
    "    #print(\"update_shape\", p.shape, g.shape, lam.shape, idx.shape, delta.shape, emb.shape)\n",
    "    #emb[:, idx] += lam**2\n",
    "    ind_ar = np.arange(EMB_SIZE)\n",
    "    #print(delta[ind_ar, idx].shape)\n",
    "    p = delta[ind_ar, idx] = forget * delta[ind_ar, idx] + (1 - forget) * (lam**2)\n",
    "    emb[ind_ar, idx] -= (lam * nu / (p**0.5 + eps))\n",
    "    #delta[:, idx] +=\n",
    "    #delta[:, idx] += delta"
   ]
  },
  {
   "cell_type": "code",
   "execution_count": 53,
   "metadata": {},
   "outputs": [],
   "source": [
    "def magic_diff(a, b):\n",
    "    r = np.setdiff1d(a[:, 0], b[:, 0], True)\n",
    "    res = np.ones((r.shape[0], 2), dtype='int')\n",
    "    res[:, 0] = r\n",
    "    return res"
   ]
  },
  {
   "cell_type": "code",
   "execution_count": 54,
   "metadata": {},
   "outputs": [],
   "source": [
    "def train(emb, delta, iu, iv_hat, nu, use_max=False):\n",
    "    #print(\"is\", iu, iv_hat)\n",
    "    ind = [nu_title[iu], nu_des[iu], nu_des[iv_hat]]\n",
    "    #ind[1] = ind[1].copy()\n",
    "    #ind[1][:, ]\n",
    "    # use real sets?\n",
    "   # print(\"ind before\", ind)\n",
    "    if not True:\n",
    "        if np.random.rand() < 0.5:\n",
    "            ind[0] = magic_diff(ind[0], ind[1])\n",
    "        else:\n",
    "            ind[1] = magic_diff(ind[1], ind[0])\n",
    "    if True:\n",
    "        ind[1] = magic_diff(ind[1], ind[0])\n",
    "        if len(ind[1]) == 0:\n",
    "            return\n",
    "        #ind[0] = magic_diff(ind[0], ind[1])\n",
    "    #print(\"ind after\", ind)\n",
    "    infos = [None]*3\n",
    "    # max thingy\n",
    "    if use_max:\n",
    "        vecs, infos = zip(*map(get_repr_max, ind))\n",
    "        u, v, v_hat = vecs #map(get_repr, ind)\n",
    "    else:\n",
    "        u, v, v_hat = map(get_repr, ind)\n",
    "    #print(\"ind repr\", u, v, v_hat)\n",
    "    \n",
    "    hinge = backward_hinge(u, v, v_hat)\n",
    "    #hinge = backward_bpr(u, v, v_hat)\n",
    "    \n",
    "    if hinge:\n",
    "        #print('ok', ind, hinge)\n",
    "        for i, lam, info in zip(ind, hinge, infos):\n",
    "            #word_ind = i[:, 0]\n",
    "            \n",
    "            #print(lam)\n",
    "            #update(emb, delta, word_ind, lam, nu)\n",
    "            if use_max:\n",
    "                word_ind = info\n",
    "                update_max(emb, delta, word_ind, lam, nu)\n",
    "            else:\n",
    "                word_ind = i[:, 0]\n",
    "                update(emb, delta, word_ind, lam, nu)"
   ]
  },
  {
   "cell_type": "code",
   "execution_count": 55,
   "metadata": {},
   "outputs": [],
   "source": [
    "DATA_SIZE = len(nu_title)"
   ]
  },
  {
   "cell_type": "code",
   "execution_count": 56,
   "metadata": {},
   "outputs": [
    {
     "data": {
      "text/plain": [
       "75889"
      ]
     },
     "execution_count": 56,
     "metadata": {},
     "output_type": "execute_result"
    }
   ],
   "source": [
    "TRAIN_SIZE = int(0.7 * DATA_SIZE)\n",
    "TRAIN_SIZE"
   ]
  },
  {
   "cell_type": "code",
   "execution_count": 57,
   "metadata": {},
   "outputs": [],
   "source": [
    "TEST_SIZE = DATA_SIZE - TRAIN_SIZE"
   ]
  },
  {
   "cell_type": "code",
   "execution_count": 58,
   "metadata": {},
   "outputs": [],
   "source": [
    "TEST_SIZE = 1000\n",
    "TRAIN_SIZE = DATA_SIZE - TEST_SIZE"
   ]
  },
  {
   "cell_type": "code",
   "execution_count": null,
   "metadata": {},
   "outputs": [],
   "source": []
  },
  {
   "cell_type": "code",
   "execution_count": 59,
   "metadata": {},
   "outputs": [],
   "source": [
    "data_ind = np.random.permutation(DATA_SIZE)\n",
    "train_ind, test_ind = data_ind[:TRAIN_SIZE], data_ind[TRAIN_SIZE:]"
   ]
  },
  {
   "cell_type": "code",
   "execution_count": 60,
   "metadata": {},
   "outputs": [],
   "source": [
    "#8 => (loss = :bpr, opt = :rmsprop, agg = :max, constr = :nneg)"
   ]
  },
  {
   "cell_type": "code",
   "execution_count": 61,
   "metadata": {},
   "outputs": [],
   "source": [
    "def recall_k(emb, delta, data, k=10):\n",
    "    n = len(data)\n",
    "    \n",
    "    des_emb = np.zeros((n, EMB_SIZE))\n",
    "    for i, ind in enumerate(data):\n",
    "        #if i % 1000 == 0:\n",
    "         #   print(i)\n",
    "        des_emb[i] = get_repr(nu_des[ind])\n",
    "    \n",
    "    recall = 0\n",
    "    \n",
    "    for i, ind in enumerate(data):\n",
    "        #if i % 1000 == 0:\n",
    "        #    print(i)\n",
    "        title_emb = get_repr(nu_title[ind])\n",
    "        \n",
    "        recall += (ind in data[np.argpartition(-des_emb.dot(title_emb), k)[:k]])\n",
    "    return recall / n"
   ]
  },
  {
   "cell_type": "code",
   "execution_count": 62,
   "metadata": {},
   "outputs": [],
   "source": [
    "def recall_k_mine(emb, delta, data, k=10, use_max = False):\n",
    "    n = len(data)\n",
    "    \n",
    "    if use_max:\n",
    "        fun_repr = lambda x: get_repr_max(x)[0]\n",
    "    else:\n",
    "        fun_repr = get_repr\n",
    "    \n",
    "    des_emb = np.zeros((n, EMB_SIZE))\n",
    "    for i, ind in enumerate(data):\n",
    "        #if i % 1000 == 0:\n",
    "         #   print(i)\n",
    "        des_emb[i] = fun_repr(nu_des[ind])\n",
    "        #des_emb[i] /= np.linalg.norm(des_emb[i])\n",
    "    recall = 0\n",
    "    des_emb /= np.linalg.norm(des_emb, axis =0)\n",
    "    \n",
    "    for i, ind in enumerate(data):\n",
    "        #if i % 1000 == 0:\n",
    "        #    print(i)\n",
    "        title_emb = fun_repr(nu_title[ind])\n",
    "        title_emb /= np.linalg.norm(title_emb)\n",
    "        recall += (ind in data[np.argpartition(-des_emb.dot(title_emb), k)[:k]])\n",
    "    return recall / n"
   ]
  },
  {
   "cell_type": "code",
   "execution_count": 63,
   "metadata": {},
   "outputs": [],
   "source": [
    "emb_copy = None"
   ]
  },
  {
   "cell_type": "code",
   "execution_count": 64,
   "metadata": {},
   "outputs": [],
   "source": [
    "def epoch(emb, delta, data, nu, size=1000, use_max=False):\n",
    "    rand_index_one = np.random.randint(0, TRAIN_SIZE, size=size)\n",
    "    rand_index_two = np.random.randint(0, TRAIN_SIZE, size=size)\n",
    "    mask = rand_index_two == rand_index_one\n",
    "    rand_index_two[mask] += 1\n",
    "    rand_index_two[mask] %= TRAIN_SIZE\n",
    "    \n",
    "    us = train_ind[rand_index_one]\n",
    "    vhats = train_ind[rand_index_two]\n",
    "    global emb_copy\n",
    "    \n",
    "    \n",
    "    for i, vals in enumerate(zip(us, vhats)):\n",
    "        \n",
    "        u, v_hat = vals\n",
    "        #print(\"g\", (emb >= 0).sum(), (emb_copy >= 0).sum())\n",
    "        #np.copyto(emb_copy, emb)\n",
    "        #print(\"gt\", (emb >= 0).sum(), (emb_copy >= 0).sum())\n",
    "        train(emb, delta, u, v_hat, nu, use_max=use_max)\n",
    "        if True and i % 1 == 0:\n",
    "            m = emb.min()\n",
    "            if m < 0:\n",
    "         #       pass\n",
    "                #inds = np.any(emb < 0, axis=0)\n",
    "                #mins = emb[:, inds].min(axis=0)\n",
    "                #emb[:, inds] -= mins\n",
    "                #emb /= emb.max()\n",
    "                #emb[:, u] -= m\n",
    "                #emb[:, v_hat] -= m\n",
    "                #mask = emb < 0\n",
    "                np.clip(emb, 0, None, out=emb)\n",
    "                #emb[emb < 0] = 0 #emb_copy[mask]\n",
    "                #np.copyto(emb_copy, emb)\n",
    "                #print(\"gt\", (emb >= 0).sum(), (emb_copy >= 0).sum())\n",
    "                #print(\"update\", (emb >= 0).sum(), (emb_copy >= 0).sum())\n",
    "                \n",
    "                #print(\"min \" , m)\n",
    "        "
   ]
  },
  {
   "cell_type": "code",
   "execution_count": 65,
   "metadata": {},
   "outputs": [],
   "source": [
    "import time"
   ]
  },
  {
   "cell_type": "code",
   "execution_count": 66,
   "metadata": {},
   "outputs": [],
   "source": [
    "def fit(emb, delta, train_data, test_data, epoch_size=2, nu=0.01, number_epoch = 2, top_k = 10, use_max=False):\n",
    "    global emb_copy\n",
    "    emb_copy = np.zeros_like(emb)\n",
    "    #print(\"g\", (emb >= 0).sum(), (emb_copy >= 0).sum())\n",
    "    np.copyto(emb_copy, emb)\n",
    "    for i in range(number_epoch):\n",
    "        start = time.time()\n",
    "        epoch(emb, delta, train_data, nu, epoch_size, use_max=use_max)\n",
    "        delta_time = round(time.time() - start, 3)\n",
    "        score = recall_k_mine(emb, delta, test_data, top_k, use_max=use_max)\n",
    "        print('Epoch {} Score {} Time {}'.format(i, score, delta_time))"
   ]
  },
  {
   "cell_type": "markdown",
   "metadata": {},
   "source": [
    "#  => (loss = :bpr, opt = :rmsprop, agg = :max, constr = :nneg)#"
   ]
  },
  {
   "cell_type": "code",
   "execution_count": 67,
   "metadata": {},
   "outputs": [],
   "source": [
    "#epoch(embedding, matrix_delta, train_ind, nu=0.01)"
   ]
  },
  {
   "cell_type": "code",
   "execution_count": 68,
   "metadata": {},
   "outputs": [
    {
     "data": {
      "text/plain": [
       "216828"
      ]
     },
     "execution_count": 68,
     "metadata": {},
     "output_type": "execute_result"
    }
   ],
   "source": [
    "DATA_SIZE * 2"
   ]
  },
  {
   "cell_type": "code",
   "execution_count": 69,
   "metadata": {},
   "outputs": [
    {
     "ename": "KeyboardInterrupt",
     "evalue": "",
     "output_type": "error",
     "traceback": [
      "\u001b[1;31m---------------------------------------------------------------------------\u001b[0m",
      "\u001b[1;31mKeyboardInterrupt\u001b[0m                         Traceback (most recent call last)",
      "\u001b[1;32m<ipython-input-69-3aedaa288b56>\u001b[0m in \u001b[0;36m<module>\u001b[1;34m\u001b[0m\n\u001b[1;32m----> 1\u001b[1;33m \u001b[0mfit\u001b[0m\u001b[1;33m(\u001b[0m\u001b[0membedding\u001b[0m\u001b[1;33m,\u001b[0m \u001b[0mmatrix_delta\u001b[0m\u001b[1;33m,\u001b[0m \u001b[0mtrain_ind\u001b[0m\u001b[1;33m,\u001b[0m \u001b[0mtest_ind\u001b[0m\u001b[1;33m,\u001b[0m \u001b[0mnumber_epoch\u001b[0m\u001b[1;33m=\u001b[0m\u001b[1;36m20\u001b[0m\u001b[1;33m,\u001b[0m \u001b[0mnu\u001b[0m\u001b[1;33m=\u001b[0m\u001b[1;36m0.01\u001b[0m\u001b[1;33m,\u001b[0m \u001b[0mepoch_size\u001b[0m\u001b[1;33m=\u001b[0m\u001b[0mint\u001b[0m\u001b[1;33m(\u001b[0m\u001b[0mDATA_SIZE\u001b[0m\u001b[1;33m*\u001b[0m\u001b[1;36m2\u001b[0m\u001b[1;33m)\u001b[0m\u001b[1;33m,\u001b[0m \u001b[0muse_max\u001b[0m\u001b[1;33m=\u001b[0m\u001b[1;32mTrue\u001b[0m\u001b[1;33m)\u001b[0m\u001b[1;33m\u001b[0m\u001b[1;33m\u001b[0m\u001b[0m\n\u001b[0m",
      "\u001b[1;32m<ipython-input-66-cf6fa46a1bf0>\u001b[0m in \u001b[0;36mfit\u001b[1;34m(emb, delta, train_data, test_data, epoch_size, nu, number_epoch, top_k, use_max)\u001b[0m\n\u001b[0;32m      6\u001b[0m     \u001b[1;32mfor\u001b[0m \u001b[0mi\u001b[0m \u001b[1;32min\u001b[0m \u001b[0mrange\u001b[0m\u001b[1;33m(\u001b[0m\u001b[0mnumber_epoch\u001b[0m\u001b[1;33m)\u001b[0m\u001b[1;33m:\u001b[0m\u001b[1;33m\u001b[0m\u001b[1;33m\u001b[0m\u001b[0m\n\u001b[0;32m      7\u001b[0m         \u001b[0mstart\u001b[0m \u001b[1;33m=\u001b[0m \u001b[0mtime\u001b[0m\u001b[1;33m.\u001b[0m\u001b[0mtime\u001b[0m\u001b[1;33m(\u001b[0m\u001b[1;33m)\u001b[0m\u001b[1;33m\u001b[0m\u001b[1;33m\u001b[0m\u001b[0m\n\u001b[1;32m----> 8\u001b[1;33m         \u001b[0mepoch\u001b[0m\u001b[1;33m(\u001b[0m\u001b[0memb\u001b[0m\u001b[1;33m,\u001b[0m \u001b[0mdelta\u001b[0m\u001b[1;33m,\u001b[0m \u001b[0mtrain_data\u001b[0m\u001b[1;33m,\u001b[0m \u001b[0mnu\u001b[0m\u001b[1;33m,\u001b[0m \u001b[0mepoch_size\u001b[0m\u001b[1;33m,\u001b[0m \u001b[0muse_max\u001b[0m\u001b[1;33m=\u001b[0m\u001b[0muse_max\u001b[0m\u001b[1;33m)\u001b[0m\u001b[1;33m\u001b[0m\u001b[1;33m\u001b[0m\u001b[0m\n\u001b[0m\u001b[0;32m      9\u001b[0m         \u001b[0mdelta_time\u001b[0m \u001b[1;33m=\u001b[0m \u001b[0mround\u001b[0m\u001b[1;33m(\u001b[0m\u001b[0mtime\u001b[0m\u001b[1;33m.\u001b[0m\u001b[0mtime\u001b[0m\u001b[1;33m(\u001b[0m\u001b[1;33m)\u001b[0m \u001b[1;33m-\u001b[0m \u001b[0mstart\u001b[0m\u001b[1;33m,\u001b[0m \u001b[1;36m3\u001b[0m\u001b[1;33m)\u001b[0m\u001b[1;33m\u001b[0m\u001b[1;33m\u001b[0m\u001b[0m\n\u001b[0;32m     10\u001b[0m         \u001b[0mscore\u001b[0m \u001b[1;33m=\u001b[0m \u001b[0mrecall_k_mine\u001b[0m\u001b[1;33m(\u001b[0m\u001b[0memb\u001b[0m\u001b[1;33m,\u001b[0m \u001b[0mdelta\u001b[0m\u001b[1;33m,\u001b[0m \u001b[0mtest_data\u001b[0m\u001b[1;33m,\u001b[0m \u001b[0mtop_k\u001b[0m\u001b[1;33m,\u001b[0m \u001b[0muse_max\u001b[0m\u001b[1;33m=\u001b[0m\u001b[0muse_max\u001b[0m\u001b[1;33m)\u001b[0m\u001b[1;33m\u001b[0m\u001b[1;33m\u001b[0m\u001b[0m\n",
      "\u001b[1;32m<ipython-input-64-bf91b48fea2f>\u001b[0m in \u001b[0;36mepoch\u001b[1;34m(emb, delta, data, nu, size, use_max)\u001b[0m\n\u001b[0;32m     17\u001b[0m         \u001b[1;31m#np.copyto(emb_copy, emb)\u001b[0m\u001b[1;33m\u001b[0m\u001b[1;33m\u001b[0m\u001b[1;33m\u001b[0m\u001b[0m\n\u001b[0;32m     18\u001b[0m         \u001b[1;31m#print(\"gt\", (emb >= 0).sum(), (emb_copy >= 0).sum())\u001b[0m\u001b[1;33m\u001b[0m\u001b[1;33m\u001b[0m\u001b[1;33m\u001b[0m\u001b[0m\n\u001b[1;32m---> 19\u001b[1;33m         \u001b[0mtrain\u001b[0m\u001b[1;33m(\u001b[0m\u001b[0memb\u001b[0m\u001b[1;33m,\u001b[0m \u001b[0mdelta\u001b[0m\u001b[1;33m,\u001b[0m \u001b[0mu\u001b[0m\u001b[1;33m,\u001b[0m \u001b[0mv_hat\u001b[0m\u001b[1;33m,\u001b[0m \u001b[0mnu\u001b[0m\u001b[1;33m,\u001b[0m \u001b[0muse_max\u001b[0m\u001b[1;33m=\u001b[0m\u001b[0muse_max\u001b[0m\u001b[1;33m)\u001b[0m\u001b[1;33m\u001b[0m\u001b[1;33m\u001b[0m\u001b[0m\n\u001b[0m\u001b[0;32m     20\u001b[0m         \u001b[1;32mif\u001b[0m \u001b[1;32mTrue\u001b[0m \u001b[1;32mand\u001b[0m \u001b[0mi\u001b[0m \u001b[1;33m%\u001b[0m \u001b[1;36m1\u001b[0m \u001b[1;33m==\u001b[0m \u001b[1;36m0\u001b[0m\u001b[1;33m:\u001b[0m\u001b[1;33m\u001b[0m\u001b[1;33m\u001b[0m\u001b[0m\n\u001b[0;32m     21\u001b[0m             \u001b[0mm\u001b[0m \u001b[1;33m=\u001b[0m \u001b[0memb\u001b[0m\u001b[1;33m.\u001b[0m\u001b[0mmin\u001b[0m\u001b[1;33m(\u001b[0m\u001b[1;33m)\u001b[0m\u001b[1;33m\u001b[0m\u001b[1;33m\u001b[0m\u001b[0m\n",
      "\u001b[1;32m<ipython-input-54-5f4dc566ded9>\u001b[0m in \u001b[0;36mtrain\u001b[1;34m(emb, delta, iu, iv_hat, nu, use_max)\u001b[0m\n\u001b[0;32m     20\u001b[0m     \u001b[1;31m# max thingy\u001b[0m\u001b[1;33m\u001b[0m\u001b[1;33m\u001b[0m\u001b[1;33m\u001b[0m\u001b[0m\n\u001b[0;32m     21\u001b[0m     \u001b[1;32mif\u001b[0m \u001b[0muse_max\u001b[0m\u001b[1;33m:\u001b[0m\u001b[1;33m\u001b[0m\u001b[1;33m\u001b[0m\u001b[0m\n\u001b[1;32m---> 22\u001b[1;33m         \u001b[0mvecs\u001b[0m\u001b[1;33m,\u001b[0m \u001b[0minfos\u001b[0m \u001b[1;33m=\u001b[0m \u001b[0mzip\u001b[0m\u001b[1;33m(\u001b[0m\u001b[1;33m*\u001b[0m\u001b[0mmap\u001b[0m\u001b[1;33m(\u001b[0m\u001b[0mget_repr_max\u001b[0m\u001b[1;33m,\u001b[0m \u001b[0mind\u001b[0m\u001b[1;33m)\u001b[0m\u001b[1;33m)\u001b[0m\u001b[1;33m\u001b[0m\u001b[1;33m\u001b[0m\u001b[0m\n\u001b[0m\u001b[0;32m     23\u001b[0m         \u001b[0mu\u001b[0m\u001b[1;33m,\u001b[0m \u001b[0mv\u001b[0m\u001b[1;33m,\u001b[0m \u001b[0mv_hat\u001b[0m \u001b[1;33m=\u001b[0m \u001b[0mvecs\u001b[0m \u001b[1;31m#map(get_repr, ind)\u001b[0m\u001b[1;33m\u001b[0m\u001b[1;33m\u001b[0m\u001b[0m\n\u001b[0;32m     24\u001b[0m     \u001b[1;32melse\u001b[0m\u001b[1;33m:\u001b[0m\u001b[1;33m\u001b[0m\u001b[1;33m\u001b[0m\u001b[0m\n",
      "\u001b[1;32m<ipython-input-41-dda0cca55c5c>\u001b[0m in \u001b[0;36mget_repr_max\u001b[1;34m(nu_data)\u001b[0m\n\u001b[0;32m      1\u001b[0m \u001b[1;32mdef\u001b[0m \u001b[0mget_repr_max\u001b[0m\u001b[1;33m(\u001b[0m\u001b[0mnu_data\u001b[0m\u001b[1;33m)\u001b[0m\u001b[1;33m:\u001b[0m\u001b[1;33m\u001b[0m\u001b[1;33m\u001b[0m\u001b[0m\n\u001b[1;32m----> 2\u001b[1;33m     \u001b[0ms\u001b[0m \u001b[1;33m=\u001b[0m \u001b[0membedding\u001b[0m\u001b[1;33m[\u001b[0m\u001b[1;33m:\u001b[0m\u001b[1;33m,\u001b[0m \u001b[0mnu_data\u001b[0m\u001b[1;33m[\u001b[0m\u001b[1;33m:\u001b[0m\u001b[1;33m,\u001b[0m \u001b[1;36m0\u001b[0m\u001b[1;33m]\u001b[0m\u001b[1;33m]\u001b[0m \u001b[1;33m*\u001b[0m \u001b[0mnu_data\u001b[0m\u001b[1;33m[\u001b[0m\u001b[1;33m:\u001b[0m\u001b[1;33m,\u001b[0m \u001b[1;36m1\u001b[0m\u001b[1;33m]\u001b[0m\u001b[1;33m\u001b[0m\u001b[1;33m\u001b[0m\u001b[0m\n\u001b[0m\u001b[0;32m      3\u001b[0m     \u001b[0minds\u001b[0m \u001b[1;33m=\u001b[0m \u001b[0mnp\u001b[0m\u001b[1;33m.\u001b[0m\u001b[0margmax\u001b[0m\u001b[1;33m(\u001b[0m\u001b[0ms\u001b[0m\u001b[1;33m,\u001b[0m \u001b[0maxis\u001b[0m \u001b[1;33m=\u001b[0m \u001b[1;36m1\u001b[0m\u001b[1;33m)\u001b[0m\u001b[1;33m\u001b[0m\u001b[1;33m\u001b[0m\u001b[0m\n\u001b[0;32m      4\u001b[0m     \u001b[0mtrepr\u001b[0m \u001b[1;33m=\u001b[0m \u001b[0ms\u001b[0m\u001b[1;33m[\u001b[0m\u001b[0mnp\u001b[0m\u001b[1;33m.\u001b[0m\u001b[0marange\u001b[0m\u001b[1;33m(\u001b[0m\u001b[0mEMB_SIZE\u001b[0m\u001b[1;33m)\u001b[0m\u001b[1;33m,\u001b[0m \u001b[0minds\u001b[0m\u001b[1;33m]\u001b[0m\u001b[1;33m\u001b[0m\u001b[1;33m\u001b[0m\u001b[0m\n\u001b[0;32m      5\u001b[0m     \u001b[1;31m#print(\"repr\", trepr, nu_data[inds, 0])\u001b[0m\u001b[1;33m\u001b[0m\u001b[1;33m\u001b[0m\u001b[1;33m\u001b[0m\u001b[0m\n",
      "\u001b[1;31mKeyboardInterrupt\u001b[0m: "
     ]
    }
   ],
   "source": [
    "fit(embedding, matrix_delta, train_ind, test_ind, number_epoch=20, nu=0.01, epoch_size=int(DATA_SIZE*2), use_max=True)"
   ]
  },
  {
   "cell_type": "code",
   "execution_count": 62,
   "metadata": {},
   "outputs": [],
   "source": [
    "EMB_SIZE = 100"
   ]
  },
  {
   "cell_type": "code",
   "execution_count": 63,
   "metadata": {},
   "outputs": [],
   "source": [
    "embedding = np.random.rand(EMB_SIZE, VOCAB_SIZE) * 0.001\n",
    "matrix_delta = np.full((EMB_SIZE, VOCAB_SIZE), eps)"
   ]
  },
  {
   "cell_type": "code",
   "execution_count": 72,
   "metadata": {},
   "outputs": [
    {
     "name": "stdout",
     "output_type": "stream",
     "text": [
      "Epoch 0 Score 0.01 Time 5.96\n",
      "Epoch 1 Score 0.01 Time 6.022\n",
      "Epoch 2 Score 0.01 Time 5.49\n",
      "Epoch 3 Score 0.01 Time 5.951\n",
      "Epoch 4 Score 0.01 Time 5.946\n",
      "Epoch 5 Score 0.01 Time 5.848\n",
      "Epoch 6 Score 0.01 Time 5.795\n",
      "Epoch 7 Score 0.01 Time 5.756\n",
      "Epoch 8 Score 0.01 Time 5.661\n",
      "Epoch 9 Score 0.01 Time 5.676\n",
      "Epoch 10 Score 0.01 Time 5.567\n",
      "Epoch 11 Score 0.01 Time 5.563\n"
     ]
    },
    {
     "ename": "KeyboardInterrupt",
     "evalue": "",
     "output_type": "error",
     "traceback": [
      "\u001b[1;31m---------------------------------------------------------------------------\u001b[0m",
      "\u001b[1;31mKeyboardInterrupt\u001b[0m                         Traceback (most recent call last)",
      "\u001b[1;32m<ipython-input-72-9f7575f6639b>\u001b[0m in \u001b[0;36m<module>\u001b[1;34m\u001b[0m\n\u001b[1;32m----> 1\u001b[1;33m \u001b[0mfit\u001b[0m\u001b[1;33m(\u001b[0m\u001b[0membedding\u001b[0m\u001b[1;33m,\u001b[0m \u001b[0mmatrix_delta\u001b[0m\u001b[1;33m,\u001b[0m \u001b[0mtrain_ind\u001b[0m\u001b[1;33m,\u001b[0m \u001b[0mtest_ind\u001b[0m\u001b[1;33m,\u001b[0m \u001b[0mnumber_epoch\u001b[0m\u001b[1;33m=\u001b[0m\u001b[1;36m100\u001b[0m\u001b[1;33m,\u001b[0m \u001b[0mnu\u001b[0m\u001b[1;33m=\u001b[0m\u001b[1;36m0.01\u001b[0m\u001b[1;33m,\u001b[0m \u001b[0mepoch_size\u001b[0m\u001b[1;33m=\u001b[0m\u001b[1;36m2000\u001b[0m\u001b[1;33m,\u001b[0m \u001b[0muse_max\u001b[0m\u001b[1;33m=\u001b[0m\u001b[1;32mnot\u001b[0m \u001b[1;32mTrue\u001b[0m\u001b[1;33m)\u001b[0m \u001b[1;31m#int(DATA_SIZE*2), )\u001b[0m\u001b[1;33m\u001b[0m\u001b[1;33m\u001b[0m\u001b[0m\n\u001b[0m",
      "\u001b[1;32m<ipython-input-66-cf6fa46a1bf0>\u001b[0m in \u001b[0;36mfit\u001b[1;34m(emb, delta, train_data, test_data, epoch_size, nu, number_epoch, top_k, use_max)\u001b[0m\n\u001b[0;32m      6\u001b[0m     \u001b[1;32mfor\u001b[0m \u001b[0mi\u001b[0m \u001b[1;32min\u001b[0m \u001b[0mrange\u001b[0m\u001b[1;33m(\u001b[0m\u001b[0mnumber_epoch\u001b[0m\u001b[1;33m)\u001b[0m\u001b[1;33m:\u001b[0m\u001b[1;33m\u001b[0m\u001b[1;33m\u001b[0m\u001b[0m\n\u001b[0;32m      7\u001b[0m         \u001b[0mstart\u001b[0m \u001b[1;33m=\u001b[0m \u001b[0mtime\u001b[0m\u001b[1;33m.\u001b[0m\u001b[0mtime\u001b[0m\u001b[1;33m(\u001b[0m\u001b[1;33m)\u001b[0m\u001b[1;33m\u001b[0m\u001b[1;33m\u001b[0m\u001b[0m\n\u001b[1;32m----> 8\u001b[1;33m         \u001b[0mepoch\u001b[0m\u001b[1;33m(\u001b[0m\u001b[0memb\u001b[0m\u001b[1;33m,\u001b[0m \u001b[0mdelta\u001b[0m\u001b[1;33m,\u001b[0m \u001b[0mtrain_data\u001b[0m\u001b[1;33m,\u001b[0m \u001b[0mnu\u001b[0m\u001b[1;33m,\u001b[0m \u001b[0mepoch_size\u001b[0m\u001b[1;33m,\u001b[0m \u001b[0muse_max\u001b[0m\u001b[1;33m=\u001b[0m\u001b[0muse_max\u001b[0m\u001b[1;33m)\u001b[0m\u001b[1;33m\u001b[0m\u001b[1;33m\u001b[0m\u001b[0m\n\u001b[0m\u001b[0;32m      9\u001b[0m         \u001b[0mdelta_time\u001b[0m \u001b[1;33m=\u001b[0m \u001b[0mround\u001b[0m\u001b[1;33m(\u001b[0m\u001b[0mtime\u001b[0m\u001b[1;33m.\u001b[0m\u001b[0mtime\u001b[0m\u001b[1;33m(\u001b[0m\u001b[1;33m)\u001b[0m \u001b[1;33m-\u001b[0m \u001b[0mstart\u001b[0m\u001b[1;33m,\u001b[0m \u001b[1;36m3\u001b[0m\u001b[1;33m)\u001b[0m\u001b[1;33m\u001b[0m\u001b[1;33m\u001b[0m\u001b[0m\n\u001b[0;32m     10\u001b[0m         \u001b[0mscore\u001b[0m \u001b[1;33m=\u001b[0m \u001b[0mrecall_k_mine\u001b[0m\u001b[1;33m(\u001b[0m\u001b[0memb\u001b[0m\u001b[1;33m,\u001b[0m \u001b[0mdelta\u001b[0m\u001b[1;33m,\u001b[0m \u001b[0mtest_data\u001b[0m\u001b[1;33m,\u001b[0m \u001b[0mtop_k\u001b[0m\u001b[1;33m,\u001b[0m \u001b[0muse_max\u001b[0m\u001b[1;33m=\u001b[0m\u001b[0muse_max\u001b[0m\u001b[1;33m)\u001b[0m\u001b[1;33m\u001b[0m\u001b[1;33m\u001b[0m\u001b[0m\n",
      "\u001b[1;32m<ipython-input-64-bf91b48fea2f>\u001b[0m in \u001b[0;36mepoch\u001b[1;34m(emb, delta, data, nu, size, use_max)\u001b[0m\n\u001b[0;32m     17\u001b[0m         \u001b[1;31m#np.copyto(emb_copy, emb)\u001b[0m\u001b[1;33m\u001b[0m\u001b[1;33m\u001b[0m\u001b[1;33m\u001b[0m\u001b[0m\n\u001b[0;32m     18\u001b[0m         \u001b[1;31m#print(\"gt\", (emb >= 0).sum(), (emb_copy >= 0).sum())\u001b[0m\u001b[1;33m\u001b[0m\u001b[1;33m\u001b[0m\u001b[1;33m\u001b[0m\u001b[0m\n\u001b[1;32m---> 19\u001b[1;33m         \u001b[0mtrain\u001b[0m\u001b[1;33m(\u001b[0m\u001b[0memb\u001b[0m\u001b[1;33m,\u001b[0m \u001b[0mdelta\u001b[0m\u001b[1;33m,\u001b[0m \u001b[0mu\u001b[0m\u001b[1;33m,\u001b[0m \u001b[0mv_hat\u001b[0m\u001b[1;33m,\u001b[0m \u001b[0mnu\u001b[0m\u001b[1;33m,\u001b[0m \u001b[0muse_max\u001b[0m\u001b[1;33m=\u001b[0m\u001b[0muse_max\u001b[0m\u001b[1;33m)\u001b[0m\u001b[1;33m\u001b[0m\u001b[1;33m\u001b[0m\u001b[0m\n\u001b[0m\u001b[0;32m     20\u001b[0m         \u001b[1;32mif\u001b[0m \u001b[1;32mTrue\u001b[0m \u001b[1;32mand\u001b[0m \u001b[0mi\u001b[0m \u001b[1;33m%\u001b[0m \u001b[1;36m1\u001b[0m \u001b[1;33m==\u001b[0m \u001b[1;36m0\u001b[0m\u001b[1;33m:\u001b[0m\u001b[1;33m\u001b[0m\u001b[1;33m\u001b[0m\u001b[0m\n\u001b[0;32m     21\u001b[0m             \u001b[0mm\u001b[0m \u001b[1;33m=\u001b[0m \u001b[0memb\u001b[0m\u001b[1;33m.\u001b[0m\u001b[0mmin\u001b[0m\u001b[1;33m(\u001b[0m\u001b[1;33m)\u001b[0m\u001b[1;33m\u001b[0m\u001b[1;33m\u001b[0m\u001b[0m\n",
      "\u001b[1;32m<ipython-input-54-5f4dc566ded9>\u001b[0m in \u001b[0;36mtrain\u001b[1;34m(emb, delta, iu, iv_hat, nu, use_max)\u001b[0m\n\u001b[0;32m     23\u001b[0m         \u001b[0mu\u001b[0m\u001b[1;33m,\u001b[0m \u001b[0mv\u001b[0m\u001b[1;33m,\u001b[0m \u001b[0mv_hat\u001b[0m \u001b[1;33m=\u001b[0m \u001b[0mvecs\u001b[0m \u001b[1;31m#map(get_repr, ind)\u001b[0m\u001b[1;33m\u001b[0m\u001b[1;33m\u001b[0m\u001b[0m\n\u001b[0;32m     24\u001b[0m     \u001b[1;32melse\u001b[0m\u001b[1;33m:\u001b[0m\u001b[1;33m\u001b[0m\u001b[1;33m\u001b[0m\u001b[0m\n\u001b[1;32m---> 25\u001b[1;33m         \u001b[0mu\u001b[0m\u001b[1;33m,\u001b[0m \u001b[0mv\u001b[0m\u001b[1;33m,\u001b[0m \u001b[0mv_hat\u001b[0m \u001b[1;33m=\u001b[0m \u001b[0mmap\u001b[0m\u001b[1;33m(\u001b[0m\u001b[0mget_repr\u001b[0m\u001b[1;33m,\u001b[0m \u001b[0mind\u001b[0m\u001b[1;33m)\u001b[0m\u001b[1;33m\u001b[0m\u001b[1;33m\u001b[0m\u001b[0m\n\u001b[0m\u001b[0;32m     26\u001b[0m     \u001b[1;31m#print(\"ind repr\", u, v, v_hat)\u001b[0m\u001b[1;33m\u001b[0m\u001b[1;33m\u001b[0m\u001b[1;33m\u001b[0m\u001b[0m\n\u001b[0;32m     27\u001b[0m \u001b[1;33m\u001b[0m\u001b[0m\n",
      "\u001b[1;32m<ipython-input-40-506facd7763b>\u001b[0m in \u001b[0;36mget_repr\u001b[1;34m(nu_data)\u001b[0m\n\u001b[0;32m      1\u001b[0m \u001b[1;32mdef\u001b[0m \u001b[0mget_repr\u001b[0m\u001b[1;33m(\u001b[0m\u001b[0mnu_data\u001b[0m\u001b[1;33m)\u001b[0m\u001b[1;33m:\u001b[0m\u001b[1;33m\u001b[0m\u001b[1;33m\u001b[0m\u001b[0m\n\u001b[1;32m----> 2\u001b[1;33m     \u001b[1;32mreturn\u001b[0m \u001b[0maggreg_fun\u001b[0m\u001b[1;33m(\u001b[0m\u001b[0membedding\u001b[0m\u001b[1;33m[\u001b[0m\u001b[1;33m:\u001b[0m\u001b[1;33m,\u001b[0m \u001b[0mnu_data\u001b[0m\u001b[1;33m[\u001b[0m\u001b[1;33m:\u001b[0m\u001b[1;33m,\u001b[0m \u001b[1;36m0\u001b[0m\u001b[1;33m]\u001b[0m\u001b[1;33m]\u001b[0m \u001b[1;33m*\u001b[0m \u001b[0mnu_data\u001b[0m\u001b[1;33m[\u001b[0m\u001b[1;33m:\u001b[0m\u001b[1;33m,\u001b[0m \u001b[1;36m1\u001b[0m\u001b[1;33m]\u001b[0m\u001b[1;33m,\u001b[0m \u001b[0maxis\u001b[0m\u001b[1;33m=\u001b[0m\u001b[1;36m1\u001b[0m\u001b[1;33m)\u001b[0m\u001b[1;33m\u001b[0m\u001b[1;33m\u001b[0m\u001b[0m\n\u001b[0m",
      "\u001b[1;32m~\\Anaconda3\\lib\\site-packages\\numpy\\core\\fromnumeric.py\u001b[0m in \u001b[0;36mmean\u001b[1;34m(a, axis, dtype, out, keepdims)\u001b[0m\n\u001b[0;32m   2918\u001b[0m \u001b[1;33m\u001b[0m\u001b[0m\n\u001b[0;32m   2919\u001b[0m     return _methods._mean(a, axis=axis, dtype=dtype,\n\u001b[1;32m-> 2920\u001b[1;33m                           out=out, **kwargs)\n\u001b[0m\u001b[0;32m   2921\u001b[0m \u001b[1;33m\u001b[0m\u001b[0m\n\u001b[0;32m   2922\u001b[0m \u001b[1;33m\u001b[0m\u001b[0m\n",
      "\u001b[1;32m~\\Anaconda3\\lib\\site-packages\\numpy\\core\\_methods.py\u001b[0m in \u001b[0;36m_mean\u001b[1;34m(a, axis, dtype, out, keepdims)\u001b[0m\n\u001b[0;32m     73\u001b[0m             \u001b[0mis_float16_result\u001b[0m \u001b[1;33m=\u001b[0m \u001b[1;32mTrue\u001b[0m\u001b[1;33m\u001b[0m\u001b[1;33m\u001b[0m\u001b[0m\n\u001b[0;32m     74\u001b[0m \u001b[1;33m\u001b[0m\u001b[0m\n\u001b[1;32m---> 75\u001b[1;33m     \u001b[0mret\u001b[0m \u001b[1;33m=\u001b[0m \u001b[0mumr_sum\u001b[0m\u001b[1;33m(\u001b[0m\u001b[0marr\u001b[0m\u001b[1;33m,\u001b[0m \u001b[0maxis\u001b[0m\u001b[1;33m,\u001b[0m \u001b[0mdtype\u001b[0m\u001b[1;33m,\u001b[0m \u001b[0mout\u001b[0m\u001b[1;33m,\u001b[0m \u001b[0mkeepdims\u001b[0m\u001b[1;33m)\u001b[0m\u001b[1;33m\u001b[0m\u001b[1;33m\u001b[0m\u001b[0m\n\u001b[0m\u001b[0;32m     76\u001b[0m     \u001b[1;32mif\u001b[0m \u001b[0misinstance\u001b[0m\u001b[1;33m(\u001b[0m\u001b[0mret\u001b[0m\u001b[1;33m,\u001b[0m \u001b[0mmu\u001b[0m\u001b[1;33m.\u001b[0m\u001b[0mndarray\u001b[0m\u001b[1;33m)\u001b[0m\u001b[1;33m:\u001b[0m\u001b[1;33m\u001b[0m\u001b[1;33m\u001b[0m\u001b[0m\n\u001b[0;32m     77\u001b[0m         ret = um.true_divide(\n",
      "\u001b[1;31mKeyboardInterrupt\u001b[0m: "
     ]
    }
   ],
   "source": [
    "fit(embedding, matrix_delta, train_ind, test_ind, number_epoch=100, nu=0.01, epoch_size=2000, use_max=not True) #int(DATA_SIZE*2), )"
   ]
  },
  {
   "cell_type": "code",
   "execution_count": 73,
   "metadata": {},
   "outputs": [
    {
     "data": {
      "text/plain": [
       "0.01"
      ]
     },
     "execution_count": 73,
     "metadata": {},
     "output_type": "execute_result"
    }
   ],
   "source": [
    "recall_k_mine(embedding, matrix_delta, test_ind, 10)"
   ]
  },
  {
   "cell_type": "code",
   "execution_count": 74,
   "metadata": {},
   "outputs": [
    {
     "data": {
      "text/plain": [
       "(50, 16035)"
      ]
     },
     "execution_count": 74,
     "metadata": {},
     "output_type": "execute_result"
    }
   ],
   "source": [
    "embedding.shape"
   ]
  },
  {
   "cell_type": "code",
   "execution_count": 71,
   "metadata": {},
   "outputs": [
    {
     "name": "stdout",
     "output_type": "stream",
     "text": [
      "update 1239087 1239100\n"
     ]
    }
   ],
   "source": [
    "print(\"update\", (embedding >= 0).sum(), (emb_copy >= 0).sum())"
   ]
  },
  {
   "cell_type": "code",
   "execution_count": 733,
   "metadata": {},
   "outputs": [
    {
     "name": "stdout",
     "output_type": "stream",
     "text": [
      "g 619550 619550\n",
      "gt 619550 619550\n",
      "Epoch 0 Score 0.017\n",
      "gt 619550 619550\n",
      "Epoch 1 Score 0.016\n",
      "gt 619550 619550\n",
      "Epoch 2 Score 0.019\n",
      "gt 619550 619550\n",
      "Epoch 3 Score 0.021\n",
      "gt 619550 619550\n",
      "Epoch 4 Score 0.017\n",
      "gt 619550 619550\n",
      "Epoch 5 Score 0.017\n",
      "gt 619550 619550\n",
      "Epoch 6 Score 0.013\n",
      "gt 619550 619550\n",
      "Epoch 7 Score 0.014\n",
      "gt 619550 619550\n",
      "Epoch 8 Score 0.016\n",
      "gt 619550 619550\n",
      "Epoch 9 Score 0.013\n"
     ]
    }
   ],
   "source": [
    "fit(embedding, matrix_delta, train_ind[:2], test_ind, number_epoch=10, nu=0.01, epoch_size=2, use_max=True) #int(DATA_SIZE*2), )"
   ]
  },
  {
   "cell_type": "code",
   "execution_count": 734,
   "metadata": {},
   "outputs": [
    {
     "data": {
      "text/plain": [
       "array([[4.56611302e-04, 6.27191100e-04, 2.81231159e-04, ...,\n",
       "        1.21804960e-04, 7.75354144e-04, 1.16807692e-04],\n",
       "       [6.50142437e-04, 8.77587387e-04, 7.72680039e-04, ...,\n",
       "        7.06904011e-04, 9.18988977e-04, 6.00028284e-05],\n",
       "       [4.08210614e-03, 3.88594587e-04, 4.85097770e-04, ...,\n",
       "        7.94014404e-04, 4.54450397e-04, 6.68985460e-04],\n",
       "       ...,\n",
       "       [3.38400070e-04, 7.46992581e-04, 9.05357702e-04, ...,\n",
       "        3.68328257e-04, 1.03444887e-04, 5.90052377e-04],\n",
       "       [7.38676021e-04, 9.38138747e-04, 4.01655227e-04, ...,\n",
       "        7.88108625e-04, 1.17311829e-04, 1.09398980e-04],\n",
       "       [2.84485275e-03, 9.23850868e-04, 1.97345842e-04, ...,\n",
       "        5.81676650e-04, 8.68193967e-04, 4.04267776e-04]])"
      ]
     },
     "execution_count": 734,
     "metadata": {},
     "output_type": "execute_result"
    }
   ],
   "source": [
    "emb_copy"
   ]
  },
  {
   "cell_type": "code",
   "execution_count": 75,
   "metadata": {},
   "outputs": [
    {
     "data": {
      "text/plain": [
       "array([[0.63230276, 0.22176524, 0.        , ..., 0.00266928, 0.02572171,\n",
       "        0.        ],\n",
       "       [0.63053312, 0.2215875 , 0.        , ..., 0.00170621, 0.02570094,\n",
       "        0.        ],\n",
       "       [0.63092388, 0.2213629 , 0.        , ..., 0.0017398 , 0.0256077 ,\n",
       "        0.        ],\n",
       "       ...,\n",
       "       [0.63041051, 0.22111157, 0.        , ..., 0.00247773, 0.02560849,\n",
       "        0.        ],\n",
       "       [0.63127758, 0.22117524, 0.        , ..., 0.00245936, 0.02562434,\n",
       "        0.        ],\n",
       "       [0.63146618, 0.22182317, 0.        , ..., 0.00173934, 0.02556523,\n",
       "        0.        ]])"
      ]
     },
     "execution_count": 75,
     "metadata": {},
     "output_type": "execute_result"
    }
   ],
   "source": [
    "embedding"
   ]
  },
  {
   "cell_type": "code",
   "execution_count": 662,
   "metadata": {},
   "outputs": [
    {
     "data": {
      "text/plain": [
       "array([[2.34819021e-02, 3.28367475e-02, 1.31711571e-01, ...,\n",
       "        1.33698132e-01, 4.09097015e-03, 6.73105668e-02],\n",
       "       [8.79607261e-02, 4.33665114e-01, 1.20841208e-02, ...,\n",
       "        9.80985943e-03, 7.33516438e-03, 5.05148961e-01],\n",
       "       [9.09194626e-02, 3.10359041e-02, 2.27139576e-01, ...,\n",
       "        9.93098992e-03, 1.00000000e-07, 1.62959707e-01],\n",
       "       ...,\n",
       "       [3.95050428e-01, 3.29834553e-02, 6.41709761e-03, ...,\n",
       "        1.00000000e-07, 5.89042494e-03, 3.31599799e-01],\n",
       "       [6.44551385e-01, 4.11284861e-02, 1.24797310e-01, ...,\n",
       "        3.82658447e-02, 1.00000000e-07, 3.60542724e-01],\n",
       "       [1.79829143e-01, 5.00978065e-01, 1.22946016e-01, ...,\n",
       "        1.03167621e-01, 9.89489045e-03, 2.57817339e-01]])"
      ]
     },
     "execution_count": 662,
     "metadata": {},
     "output_type": "execute_result"
    }
   ],
   "source": [
    "matrix_delta"
   ]
  },
  {
   "cell_type": "code",
   "execution_count": 503,
   "metadata": {},
   "outputs": [
    {
     "data": {
      "text/plain": [
       "array([[0, 1, 2],\n",
       "       [3, 4, 5],\n",
       "       [6, 7, 8]])"
      ]
     },
     "execution_count": 503,
     "metadata": {},
     "output_type": "execute_result"
    }
   ],
   "source": [
    "a = np.arange(9).reshape((3,3))\n",
    "a"
   ]
  },
  {
   "cell_type": "code",
   "execution_count": 505,
   "metadata": {},
   "outputs": [
    {
     "data": {
      "text/plain": [
       "array([2, 2, 2], dtype=int64)"
      ]
     },
     "execution_count": 505,
     "metadata": {},
     "output_type": "execute_result"
    }
   ],
   "source": [
    "np.argmax(a, axis=1)"
   ]
  },
  {
   "cell_type": "code",
   "execution_count": 508,
   "metadata": {},
   "outputs": [
    {
     "data": {
      "text/plain": [
       "array([2, 5, 8])"
      ]
     },
     "execution_count": 508,
     "metadata": {},
     "output_type": "execute_result"
    }
   ],
   "source": [
    "a[np.arange(3), [2,2,2]]"
   ]
  },
  {
   "cell_type": "code",
   "execution_count": 83,
   "metadata": {},
   "outputs": [],
   "source": [
    "l[0] = [55,55]"
   ]
  },
  {
   "cell_type": "code",
   "execution_count": 89,
   "metadata": {},
   "outputs": [
    {
     "data": {
      "text/plain": [
       "([[55, 55], array([2, 4])], array([55, 55,  3]))"
      ]
     },
     "execution_count": 89,
     "metadata": {},
     "output_type": "execute_result"
    }
   ],
   "source": [
    "l, a"
   ]
  },
  {
   "cell_type": "code",
   "execution_count": 85,
   "metadata": {},
   "outputs": [],
   "source": [
    "t = l[0]\n",
    "t = [55,55]"
   ]
  },
  {
   "cell_type": "code",
   "execution_count": 88,
   "metadata": {},
   "outputs": [],
   "source": [
    "a[:2] = [55,55]"
   ]
  },
  {
   "cell_type": "code",
   "execution_count": 617,
   "metadata": {},
   "outputs": [],
   "source": [
    "emb_s, delta_s = embedding.copy(), matrix_delta.copy()"
   ]
  },
  {
   "cell_type": "code",
   "execution_count": 608,
   "metadata": {},
   "outputs": [
    {
     "data": {
      "text/plain": [
       "(176.00146355073906, 3.7436087400276907)"
      ]
     },
     "execution_count": 608,
     "metadata": {},
     "output_type": "execute_result"
    }
   ],
   "source": [
    "np.linalg.norm(embedding - emb_s), np.linalg.norm(matrix_delta - delta_s)"
   ]
  },
  {
   "cell_type": "code",
   "execution_count": null,
   "metadata": {},
   "outputs": [],
   "source": [
    "a = a.astype('float')"
   ]
  },
  {
   "cell_type": "code",
   "execution_count": null,
   "metadata": {},
   "outputs": [],
   "source": [
    "update(a, b, None, 0, 0.2)"
   ]
  },
  {
   "cell_type": "code",
   "execution_count": 151,
   "metadata": {},
   "outputs": [
    {
     "ename": "AttributeError",
     "evalue": "'numpy.ndarray' object attribute 'squeeze' is read-only",
     "output_type": "error",
     "traceback": [
      "\u001b[1;31m---------------------------------------------------------------------------\u001b[0m",
      "\u001b[1;31mAttributeError\u001b[0m                            Traceback (most recent call last)",
      "\u001b[1;32m<ipython-input-151-66df7bdc01b0>\u001b[0m in \u001b[0;36m<module>\u001b[1;34m()\u001b[0m\n\u001b[1;32m----> 1\u001b[1;33m \u001b[0ma\u001b[0m\u001b[1;33m.\u001b[0m\u001b[0msqueeze\u001b[0m \u001b[1;33m=\u001b[0m \u001b[1;34m'lol'\u001b[0m\u001b[1;33m\u001b[0m\u001b[0m\n\u001b[0m",
      "\u001b[1;31mAttributeError\u001b[0m: 'numpy.ndarray' object attribute 'squeeze' is read-only"
     ]
    }
   ],
   "source": [
    "a.squeeze = 'lol'"
   ]
  },
  {
   "cell_type": "code",
   "execution_count": 148,
   "metadata": {},
   "outputs": [
    {
     "data": {
      "text/plain": [
       "array([55, 55,  3])"
      ]
     },
     "execution_count": 148,
     "metadata": {},
     "output_type": "execute_result"
    }
   ],
   "source": [
    "a"
   ]
  },
  {
   "cell_type": "code",
   "execution_count": null,
   "metadata": {},
   "outputs": [],
   "source": [
    "b = a.copy()"
   ]
  },
  {
   "cell_type": "code",
   "execution_count": null,
   "metadata": {},
   "outputs": [],
   "source": [
    "a, b"
   ]
  },
  {
   "cell_type": "code",
   "execution_count": 76,
   "metadata": {},
   "outputs": [],
   "source": [
    "def best_k(emb, query, k=10):\n",
    "    if query in vocab_t:\n",
    "        ind = vocab_t[query]\n",
    "        \n",
    "        norm_emb = emb / np.linalg.norm(emb, axis=0)\n",
    "        word_emb = norm_emb[:, ind]\n",
    "        keys = np.argpartition(-word_emb.dot(norm_emb), k+1)[:k+1]\n",
    "        vals = -word_emb.dot(norm_emb[:, keys])\n",
    "        val_key = np.argsort(vals)[1:]\n",
    "        keys = keys[val_key]\n",
    "        vals = -vals[val_key]\n",
    "        words = [inverse_vocab[key] for key in keys]\n",
    "        print(\"\\n\".join(word + \" - \" + str(val) for word, val in zip(words, vals)))\n",
    "    else:\n",
    "        print(\"No such word\")"
   ]
  },
  {
   "cell_type": "code",
   "execution_count": 80,
   "metadata": {},
   "outputs": [
    {
     "name": "stdout",
     "output_type": "stream",
     "text": [
      "аукцион - 0.9999783767177117\n",
      "иск - 0.9999772426098721\n",
      "его - 0.9999771341174468\n",
      "форбс - 0.9999756158590289\n",
      "совбезе - 0.999975596207497\n",
      "виновным - 0.9999749123676254\n",
      "террористических - 0.9999745657180212\n",
      "суд - 0.999974197899413\n",
      "террористическим - 0.999972951835542\n",
      "носова - 0.9999728419541932\n"
     ]
    },
    {
     "name": "stderr",
     "output_type": "stream",
     "text": [
      "C:\\Users\\user\\Anaconda3\\lib\\site-packages\\ipykernel_launcher.py:5: RuntimeWarning: invalid value encountered in true_divide\n",
      "  \"\"\"\n"
     ]
    }
   ],
   "source": [
    "best_k(embedding, \"госдума\")"
   ]
  },
  {
   "cell_type": "code",
   "execution_count": 108,
   "metadata": {},
   "outputs": [
    {
     "data": {
      "text/plain": [
       "'\\nEpoch 0 Score 0.35\\nEpoch 1 Score 0.365\\nEpoch 2 Score 0.395\\nEpoch 3 Score 0.405\\nEpoch 4 Score 0.403\\nEpoch 5 Score 0.407\\nEpoch 6 Score 0.417\\nEpoch 7 Score 0.426\\nEpoch 8 Score 0.433\\nEpoch 9 Score 0.438'"
      ]
     },
     "execution_count": 108,
     "metadata": {},
     "output_type": "execute_result"
    }
   ],
   "source": [
    "# only ind[0] update\n",
    "'''\n",
    "Epoch 0 Score 0.35\n",
    "Epoch 1 Score 0.365\n",
    "Epoch 2 Score 0.395\n",
    "Epoch 3 Score 0.405\n",
    "Epoch 4 Score 0.403\n",
    "Epoch 5 Score 0.407\n",
    "Epoch 6 Score 0.417\n",
    "Epoch 7 Score 0.426\n",
    "Epoch 8 Score 0.433\n",
    "Epoch 9 Score 0.438'''"
   ]
  },
  {
   "cell_type": "code",
   "execution_count": null,
   "metadata": {},
   "outputs": [],
   "source": []
  }
 ],
 "metadata": {
  "kernelspec": {
   "display_name": "Python 3",
   "language": "python",
   "name": "python3"
  },
  "language_info": {
   "codemirror_mode": {
    "name": "ipython",
    "version": 3
   },
   "file_extension": ".py",
   "mimetype": "text/x-python",
   "name": "python",
   "nbconvert_exporter": "python",
   "pygments_lexer": "ipython3",
   "version": "3.7.1"
  }
 },
 "nbformat": 4,
 "nbformat_minor": 2
}
